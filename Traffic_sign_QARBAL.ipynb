{
 "cells": [
  {
   "cell_type": "code",
   "execution_count": 15,
   "id": "2067cb83",
   "metadata": {},
   "outputs": [],
   "source": [
    "import numpy as np\n",
    "import pandas as pd\n",
    "import matplotlib.pyplot as plt\n",
    "import tensorflow as tf \n",
    "from PIL import Image\n",
    "import os \n",
    "from sklearn.model_selection import train_test_split \n",
    "from keras.utils import to_categorical \n",
    "from keras.models import Sequential \n",
    "from keras.layers import Conv2D, MaxPool2D, Dense, Flatten, Dropout"
   ]
  },
  {
   "cell_type": "code",
   "execution_count": 16,
   "id": "c308f96d",
   "metadata": {},
   "outputs": [],
   "source": [
    "data = []\n",
    "labels = []\n",
    "classes = 43 \n",
    "cur_path = os.getcwd() \n",
    "for i in range(classes): \n",
    "    path = os. path.join(cur_path,r'C:\\Users\\sdf\\Desktop\\M_DSBD_S3\\Deep Learning\\TP\\Traffic_Sign_Recognition\\Train', str(i)) \n",
    "    images = os.listdir(path) \n",
    "    for a in images: \n",
    "        try: \n",
    "            image = Image.open(path +'\\\\'+ a)  \n",
    "            image = image.resize((30,30)) \n",
    "            image = np.array(image) \n",
    "            data.append(image) \n",
    "            labels.append(i) \n",
    "        except: \n",
    "            print(\"Error loading image\") \n",
    "data = np.array(data)\n",
    "labels = np.array(labels)"
   ]
  },
  {
   "cell_type": "code",
   "execution_count": 19,
   "id": "6a46ee9b",
   "metadata": {},
   "outputs": [
    {
     "name": "stdout",
     "output_type": "stream",
     "text": [
      "(39209, 30, 30, 3) (39209,)\n",
      "(31367, 30, 30, 3) (7842, 30, 30, 3) (31367,) (7842,)\n"
     ]
    }
   ],
   "source": [
    "print(data.shape, labels.shape)\n",
    "#Splitting training and testing dataset\n",
    "X_t1, X_t2, y_t1, y_t2 = train_test_split(data, labels, test_size=0.2, random_state=42)\n",
    "print(X_t1.shape, X_t2.shape, y_t1.shape, y_t2.shape)\n",
    "#Converting the labels into one hot encoding\n",
    "y_t1 = to_categorical(y_t1, 43)\n",
    "y_t2 = to_categorical(y_t2, 43)"
   ]
  },
  {
   "cell_type": "code",
   "execution_count": 45,
   "id": "e5e77e84",
   "metadata": {},
   "outputs": [],
   "source": [
    "#Building the model\n",
    "model = Sequential()\n",
    "model.add(Conv2D(filters=32, kernel_size=(5,5), activation='relu', input_shape=X_t1.shape[1:]))\n",
    "model.add(Conv2D(filters=32, kernel_size=(5,5), activation='relu'))\n",
    "model.add(MaxPool2D(pool_size=(2, 2)))\n",
    "model.add(Dropout(rate=0.25))\n",
    "model.add(Conv2D(filters=64, kernel_size=(3, 3), activation='relu'))\n",
    "model.add(Conv2D(filters=64, kernel_size=(3, 3), activation='relu'))\n",
    "model.add(MaxPool2D(pool_size=(2, 2)))\n",
    "model.add(Dropout(rate=0.25))\n",
    "model.add(Flatten())\n",
    "model.add(Dense(256, activation='relu'))\n",
    "model.add(Dropout(rate=0.5))\n",
    "model.add(Dense(43, activation='softmax'))\n",
    "#Compilation of the model\n",
    "model.compile(loss='categorical_crossentropy', optimizer='adam', metrics=['accuracy'])"
   ]
  },
  {
   "cell_type": "code",
   "execution_count": 46,
   "id": "e7cf1aae",
   "metadata": {},
   "outputs": [
    {
     "name": "stdout",
     "output_type": "stream",
     "text": [
      "Model: \"sequential_4\"\n",
      "_________________________________________________________________\n",
      " Layer (type)                Output Shape              Param #   \n",
      "=================================================================\n",
      " conv2d_12 (Conv2D)          (None, 26, 26, 32)        2432      \n",
      "                                                                 \n",
      " conv2d_13 (Conv2D)          (None, 22, 22, 32)        25632     \n",
      "                                                                 \n",
      " max_pooling2d_6 (MaxPooling  (None, 11, 11, 32)       0         \n",
      " 2D)                                                             \n",
      "                                                                 \n",
      " dropout_9 (Dropout)         (None, 11, 11, 32)        0         \n",
      "                                                                 \n",
      " conv2d_14 (Conv2D)          (None, 9, 9, 64)          18496     \n",
      "                                                                 \n",
      " conv2d_15 (Conv2D)          (None, 7, 7, 64)          36928     \n",
      "                                                                 \n",
      " max_pooling2d_7 (MaxPooling  (None, 3, 3, 64)         0         \n",
      " 2D)                                                             \n",
      "                                                                 \n",
      " dropout_10 (Dropout)        (None, 3, 3, 64)          0         \n",
      "                                                                 \n",
      " flatten_3 (Flatten)         (None, 576)               0         \n",
      "                                                                 \n",
      " dense_6 (Dense)             (None, 256)               147712    \n",
      "                                                                 \n",
      " dropout_11 (Dropout)        (None, 256)               0         \n",
      "                                                                 \n",
      " dense_7 (Dense)             (None, 43)                11051     \n",
      "                                                                 \n",
      "=================================================================\n",
      "Total params: 242,251\n",
      "Trainable params: 242,251\n",
      "Non-trainable params: 0\n",
      "_________________________________________________________________\n"
     ]
    }
   ],
   "source": [
    "model.summary()"
   ]
  },
  {
   "cell_type": "code",
   "execution_count": 49,
   "id": "8e30f57b",
   "metadata": {},
   "outputs": [
    {
     "name": "stdout",
     "output_type": "stream",
     "text": [
      "Epoch 1/15\n",
      "981/981 [==============================] - 110s 112ms/step - loss: 1.7733 - accuracy: 0.5106 - val_loss: 0.3984 - val_accuracy: 0.8921\n",
      "Epoch 2/15\n",
      "981/981 [==============================] - 102s 104ms/step - loss: 0.6798 - accuracy: 0.8008 - val_loss: 0.1898 - val_accuracy: 0.9485\n",
      "Epoch 3/15\n",
      "981/981 [==============================] - 112s 114ms/step - loss: 0.4697 - accuracy: 0.8666 - val_loss: 0.1283 - val_accuracy: 0.9667\n",
      "Epoch 4/15\n",
      "981/981 [==============================] - 137s 140ms/step - loss: 0.3555 - accuracy: 0.8992 - val_loss: 0.1081 - val_accuracy: 0.9690\n",
      "Epoch 5/15\n",
      "981/981 [==============================] - 129s 132ms/step - loss: 0.3038 - accuracy: 0.9133 - val_loss: 0.1043 - val_accuracy: 0.9693\n",
      "Epoch 6/15\n",
      "981/981 [==============================] - 105s 107ms/step - loss: 0.2972 - accuracy: 0.9185 - val_loss: 0.0873 - val_accuracy: 0.9783\n",
      "Epoch 7/15\n",
      "981/981 [==============================] - 83s 85ms/step - loss: 0.2422 - accuracy: 0.9323 - val_loss: 0.0760 - val_accuracy: 0.9784\n",
      "Epoch 8/15\n",
      "981/981 [==============================] - 83s 85ms/step - loss: 0.2597 - accuracy: 0.9299 - val_loss: 0.0613 - val_accuracy: 0.9841\n",
      "Epoch 9/15\n",
      "981/981 [==============================] - 80s 82ms/step - loss: 0.2371 - accuracy: 0.9368 - val_loss: 0.0906 - val_accuracy: 0.9753\n",
      "Epoch 10/15\n",
      "981/981 [==============================] - 80s 82ms/step - loss: 0.2369 - accuracy: 0.9409 - val_loss: 0.1003 - val_accuracy: 0.9693\n",
      "Epoch 11/15\n",
      "981/981 [==============================] - 80s 81ms/step - loss: 0.2337 - accuracy: 0.9391 - val_loss: 0.0492 - val_accuracy: 0.9865\n",
      "Epoch 12/15\n",
      "981/981 [==============================] - 79s 81ms/step - loss: 0.2133 - accuracy: 0.9450 - val_loss: 0.0527 - val_accuracy: 0.9860\n",
      "Epoch 13/15\n",
      "981/981 [==============================] - 80s 82ms/step - loss: 0.2433 - accuracy: 0.9402 - val_loss: 0.0379 - val_accuracy: 0.9890\n",
      "Epoch 14/15\n",
      "981/981 [==============================] - 78s 80ms/step - loss: 0.2277 - accuracy: 0.9445 - val_loss: 0.0981 - val_accuracy: 0.9739\n",
      "Epoch 15/15\n",
      "981/981 [==============================] - 85s 86ms/step - loss: 0.2247 - accuracy: 0.9449 - val_loss: 0.0625 - val_accuracy: 0.9857\n"
     ]
    }
   ],
   "source": [
    "history1=model.fit(X_t1, y_t1, batch_size=32, epochs=15, validation_data=(X_t2, y_t2))"
   ]
  },
  {
   "cell_type": "code",
   "execution_count": 50,
   "id": "4609d83c",
   "metadata": {},
   "outputs": [
    {
     "data": {
      "text/plain": [
       "<AxesSubplot:>"
      ]
     },
     "execution_count": 50,
     "metadata": {},
     "output_type": "execute_result"
    },
    {
     "data": {
      "image/png": "[encoded data removed]",
      "text/plain": [
       "<Figure size 432x288 with 1 Axes>"
      ]
     },
     "metadata": {
      "needs_background": "light"
     },
     "output_type": "display_data"
    },
    {
     "data": {
      "image/png": "[encoded data removed]",
      "text/plain": [
       "<Figure size 432x288 with 1 Axes>"
      ]
     },
     "metadata": {
      "needs_background": "light"
     },
     "output_type": "display_data"
    }
   ],
   "source": [
    "losses = pd.DataFrame(model.history.history)\n",
    "losses[['accuracy','val_accuracy']].plot()\n",
    "losses[['loss','val_loss']].plot()"
   ]
  },
  {
   "cell_type": "code",
   "execution_count": 70,
   "id": "c5c40219",
   "metadata": {},
   "outputs": [
    {
     "name": "stdout",
     "output_type": "stream",
     "text": [
      "395/395 [==============================] - 7s 17ms/step\n"
     ]
    }
   ],
   "source": [
    "#testing accuracy on test dataset\n",
    "from sklearn.metrics import accuracy_score\n",
    "y_test = pd.read_csv(r'C:\\Users\\sdf\\Desktop\\M_DSBD_S3\\Deep Learning\\TP\\Traffic_Sign_Recognition\\Test.csv')\n",
    "labels = y_test[\"ClassId\"].values\n",
    "imgs = y_test[\"Path\"].values\n",
    "data=[]\n",
    "for img in imgs:\n",
    "    image = Image.open(img)\n",
    "    image = image.resize((30,30))\n",
    "    data.append(np.array(image))\n",
    "X_test=np.array(data)\n",
    "#pred = model.predict(X_test)\n",
    "pred = np.argmax(model.predict(X_test), axis=-1)"
   ]
  },
  {
   "cell_type": "code",
   "execution_count": 71,
   "id": "dac558b9",
   "metadata": {},
   "outputs": [
    {
     "name": "stdout",
     "output_type": "stream",
     "text": [
      "0.9589073634204276\n"
     ]
    }
   ],
   "source": [
    "#Accuracy with the test data\n",
    "from sklearn.metrics import accuracy_score\n",
    "print(accuracy_score(labels, pred))"
   ]
  },
  {
   "cell_type": "code",
   "execution_count": 73,
   "id": "9eb23365",
   "metadata": {},
   "outputs": [],
   "source": [
    "model.save('traffic_classifier.h5')#to save"
   ]
  },
  {
   "cell_type": "code",
   "execution_count": null,
   "id": "963a5d2b",
   "metadata": {},
   "outputs": [],
   "source": []
  }
 ],
 "metadata": {
  "kernelspec": {
   "display_name": "Python 3",
   "language": "python",
   "name": "python3"
  },
  "language_info": {
   "codemirror_mode": {
    "name": "ipython",
    "version": 3
   },
   "file_extension": ".py",
   "mimetype": "text/x-python",
   "name": "python",
   "nbconvert_exporter": "python",
   "pygments_lexer": "ipython3",
   "version": "3.8.8"
  }
 },
 "nbformat": 4,
 "nbformat_minor": 5
}
